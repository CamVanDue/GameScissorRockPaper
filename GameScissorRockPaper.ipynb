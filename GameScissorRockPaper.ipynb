{
 "cells": [
  {
   "cell_type": "markdown",
   "metadata": {},
   "source": [
    "                Game Scissor Rock Paper"
   ]
  },
  {
   "cell_type": "code",
   "execution_count": null,
   "metadata": {},
   "outputs": [],
   "source": [
    "from random import randint"
   ]
  },
  {
   "cell_type": "code",
   "execution_count": 3,
   "metadata": {},
   "outputs": [],
   "source": [
    "options=[\"ROCK\",\"PAPER\",\"SCISSORS\"]"
   ]
  },
  {
   "cell_type": "code",
   "execution_count": 31,
   "metadata": {},
   "outputs": [],
   "source": [
    "message={\"tie\":\"we are tie\",\"win\":\"You win\",\"lose\":\"You lose\"}"
   ]
  },
  {
   "cell_type": "code",
   "execution_count": 36,
   "metadata": {},
   "outputs": [],
   "source": [
    "def decide_winner(user_choice,computer_choice):\n",
    "    print (\"You select %s\" %user_choice)\n",
    "    print (\"Computer selected %s\" %computer_choice)\n",
    "    if user_choice==computer_choice:\n",
    "        print (message[\"tie\"])\n",
    "    elif user_choice==options[0] and computer_choice==options[2]:\n",
    "        print (message[\"win\"])\n",
    "    elif user_choice==options[1] and computer_choice==options[0]:\n",
    "        print (message[\"win\"])\n",
    "    elif user_choice==options[2] and computer_choice==options[1]:\n",
    "        print (message[\"win\"])\n",
    "    else:\n",
    "        print (message[\"lose\"])\n",
    "        \n",
    "        "
   ]
  },
  {
   "cell_type": "code",
   "execution_count": 37,
   "metadata": {},
   "outputs": [],
   "source": [
    "def play_RPC():\n",
    "    user_choice=input(\"Enter Rock,Paper,Scissors\")\n",
    "    user_choice=user_choice.upper()\n",
    "    computer_choice=options[randint(0,2)]\n",
    "    decide_winner(user_choice,computer_choice)\n",
    "    "
   ]
  },
  {
   "cell_type": "code",
   "execution_count": 39,
   "metadata": {},
   "outputs": [
    {
     "name": "stdin",
     "output_type": "stream",
     "text": [
      "Enter Rock,Paper,Scissors paper\n"
     ]
    },
    {
     "name": "stdout",
     "output_type": "stream",
     "text": [
      "You select PAPER\n",
      "Computer selected ROCK\n",
      "You win\n"
     ]
    }
   ],
   "source": [
    "play_RPC()"
   ]
  }
 ],
 "metadata": {
  "kernelspec": {
   "display_name": "Python 3",
   "language": "python",
   "name": "python3"
  },
  "language_info": {
   "codemirror_mode": {
    "name": "ipython",
    "version": 3
   },
   "file_extension": ".py",
   "mimetype": "text/x-python",
   "name": "python",
   "nbconvert_exporter": "python",
   "pygments_lexer": "ipython3",
   "version": "3.6.5"
  }
 },
 "nbformat": 4,
 "nbformat_minor": 2
}
